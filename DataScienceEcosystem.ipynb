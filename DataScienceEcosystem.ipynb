{
 "cells": [
  {
   "cell_type": "markdown",
   "id": "988e2e31-b3ed-419b-bb8b-d3fc22668c09",
   "metadata": {},
   "source": [
    "# Data Science Tools and Ecosystem"
   ]
  },
  {
   "cell_type": "markdown",
   "id": "f2e9c366-0bc0-4c54-935c-95462d731268",
   "metadata": {},
   "source": [
    "In this notebook, Data Science Tools and Ecosystem are summarized."
   ]
  },
  {
   "cell_type": "markdown",
   "id": "d08e8453-2c2f-485d-ba3f-0e4cdba40f40",
   "metadata": {},
   "source": [
    "**Some of the popular languages that Data Scientist use are:**\n",
    "1. Python\n",
    "2. R\n",
    "3. SQL\n",
    "4. Scala\n",
    "5. Julia"
   ]
  },
  {
   "cell_type": "markdown",
   "id": "8ba7fa4c-49a1-49b3-ae8a-4518a9d7f64d",
   "metadata": {},
   "source": [
    "**Some of the commonly used libraries used by Data Scientist included:**\n",
    "1. Pandas\n",
    "2. Numpy\n",
    "3. Matplotlib \n",
    "4. Seaborn"
   ]
  },
  {
   "cell_type": "markdown",
   "id": "df559dec-576d-4f86-9159-3ce1e549a38f",
   "metadata": {},
   "source": [
    "| Data Science Tools |\n",
    "| ------------------ |\n",
    "| Jupyter Notebooks |\n",
    "| JupyterLabs |\n",
    "| RStudio |"
   ]
  },
  {
   "cell_type": "markdown",
   "id": "21535e63-c74c-47de-8de5-3f8241dc4512",
   "metadata": {},
   "source": [
    "### Below are a few examples of evaluating arithmetic expressions in python"
   ]
  },
  {
   "cell_type": "code",
   "execution_count": 13,
   "id": "44942bcd-6a0e-4538-984d-140efbbcbecc",
   "metadata": {},
   "outputs": [
    {
     "data": {
      "text/plain": [
       "17"
      ]
     },
     "execution_count": 13,
     "metadata": {},
     "output_type": "execute_result"
    }
   ],
   "source": [
    "# This is a simple arithmetic expression to multiply then add integers \n",
    "(3*4)+5"
   ]
  },
  {
   "cell_type": "code",
   "execution_count": 15,
   "id": "be66de0e-f4e2-491e-8e45-6d254c071588",
   "metadata": {},
   "outputs": [
    {
     "data": {
      "text/plain": [
       "3.3333333333333335"
      ]
     },
     "execution_count": 15,
     "metadata": {},
     "output_type": "execute_result"
    }
   ],
   "source": [
    "# This will convert 200 minutes to hours by dividing by 60 \n",
    "200/60\n"
   ]
  },
  {
   "cell_type": "markdown",
   "id": "9004543b-8e9d-4937-a3a7-ca684fdea8c6",
   "metadata": {},
   "source": [
    "**Objectives:**\n",
    "\n",
    "- Popular Languages Used in Data Science\n",
    "- Commonly Used Libraries in Data Science\n",
    "- How to install and use Anaconda and Jupyter Notebooks\n",
    "- How to install and use RStudio for basic Data Visualizations\n",
    "- How to use and set up a GitHub Account"
   ]
  },
  {
   "cell_type": "markdown",
   "id": "2123c369-4a4a-4570-9246-cb6fe2e51017",
   "metadata": {},
   "source": [
    "## Author\n",
    "shin\n"
   ]
  },
  {
   "cell_type": "code",
   "execution_count": null,
   "id": "b553bf2f-2598-4fca-92ed-c507d98568f8",
   "metadata": {},
   "outputs": [],
   "source": []
  }
 ],
 "metadata": {
  "kernelspec": {
   "display_name": "Python [conda env:base] *",
   "language": "python",
   "name": "conda-base-py"
  },
  "language_info": {
   "codemirror_mode": {
    "name": "ipython",
    "version": 3
   },
   "file_extension": ".py",
   "mimetype": "text/x-python",
   "name": "python",
   "nbconvert_exporter": "python",
   "pygments_lexer": "ipython3",
   "version": "3.12.7"
  }
 },
 "nbformat": 4,
 "nbformat_minor": 5
}
